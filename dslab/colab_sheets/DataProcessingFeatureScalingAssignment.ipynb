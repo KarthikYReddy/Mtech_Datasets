{
  "nbformat": 4,
  "nbformat_minor": 0,
  "metadata": {
    "colab": {
      "provenance": []
    },
    "kernelspec": {
      "name": "python3",
      "display_name": "Python 3"
    },
    "language_info": {
      "name": "python"
    }
  },
  "cells": [
    {
      "cell_type": "markdown",
      "source": [
        "Assignment - 8th June 2025"
      ],
      "metadata": {
        "id": "jHHfogpdNU_F"
      }
    },
    {
      "cell_type": "markdown",
      "source": [
        "Part A.[Q1,Q2] File Import and Display - used csv from github personal repo\n",
        "\n",
        "https://raw.githubusercontent.com/KarthikYReddy/Mtech_Datasets/refs/heads/main/dslab/student_data.csv"
      ],
      "metadata": {
        "id": "BzyYIb8NNkuG"
      }
    },
    {
      "cell_type": "code",
      "source": [
        "import pandas as pd\n",
        "url=\"https://raw.githubusercontent.com/KarthikYReddy/Mtech_Datasets/refs/heads/main/dslab/student_data.csv\"\n",
        "df=pd.read_csv(url,header=None)\n",
        "print(df.head())\n"
      ],
      "metadata": {
        "colab": {
          "base_uri": "https://localhost:8080/"
        },
        "id": "XqrGyqmeNbpL",
        "outputId": "c20975e3-bcbd-496c-f9fd-c58d5e0525d0"
      },
      "execution_count": 57,
      "outputs": [
        {
          "output_type": "stream",
          "name": "stdout",
          "text": [
            "      0        1     2        3       4            5          6\n",
            "0  S.No     Name   Age   Gender   Score   Attendance    Remarks\n",
            "1     1  Karthik    38     Male   99.43          100   Promoted\n",
            "2     2    Ajith    38     Male   92.43           87   Promoted\n",
            "3     3   Arvind    38     Male   79.43           67   Promoted\n",
            "4     4  Sunaina    38   Female   89.43           93   Promoted\n"
          ]
        }
      ]
    },
    {
      "cell_type": "markdown",
      "source": [
        "Part B.[Q3].Handling Missing Data"
      ],
      "metadata": {
        "id": "8H6EDcjpTSvy"
      }
    },
    {
      "cell_type": "code",
      "source": [
        "import pandas as pd\n",
        "import numpy as np\n",
        "url=\"https://raw.githubusercontent.com/KarthikYReddy/Mtech_Datasets/refs/heads/main/dslab/student_data.csv\"\n",
        "df=pd.read_csv(url)\n",
        "missing_counts = df.isnull().sum()\n",
        "print(\"Missing values per column:\\n\", missing_counts)"
      ],
      "metadata": {
        "colab": {
          "base_uri": "https://localhost:8080/"
        },
        "id": "3k3ebozxTYKJ",
        "outputId": "4c847fab-392c-4b3f-90b7-587b9b95ba31"
      },
      "execution_count": 59,
      "outputs": [
        {
          "output_type": "stream",
          "name": "stdout",
          "text": [
            "Missing values per column:\n",
            " S.No           0\n",
            "Name           0\n",
            " Age           3\n",
            " Gender        0\n",
            " Score         3\n",
            " Attendance    3\n",
            " Remarks       0\n",
            "dtype: int64\n"
          ]
        }
      ]
    },
    {
      "cell_type": "markdown",
      "source": [
        "Part B [Q4] Replace missing values\n"
      ],
      "metadata": {
        "id": "5iElrbMxWUPX"
      }
    },
    {
      "cell_type": "code",
      "source": [
        "import pandas as pd\n",
        "from google.colab import drive\n",
        "import numpy as np\n",
        "\n",
        "# Mount Google Drive\n",
        "drive.mount('/content/drive')\n",
        "\n",
        "# Load CSV\n",
        "file_path = '/content/sample_data/student_data.csv'\n",
        "df = pd.read_csv(file_path)\n",
        "\n",
        "# Assign column names\n",
        "df.columns = ['S.no', 'Name', 'Age', 'Gender', 'Score', 'Attendance', 'Remarks']\n",
        "\n",
        "# Replace empty strings or whitespace-only strings with NaN\n",
        "df.replace(r'^\\s*$', np.nan, regex=True, inplace=True)\n",
        "\n",
        "# Fill numerical columns with mean\n",
        "for col in ['Age', 'Score', 'Attendance']:\n",
        "    if col in df.columns:\n",
        "        mean_val = df[col].astype(float).mean()\n",
        "        df[col].fillna(mean_val, inplace=True)\n",
        "\n",
        "# Fill categorical columns with mode\n",
        "for col in ['Gender', 'Remarks']:\n",
        "    if col in df.columns:\n",
        "        mode_val = df[col].mode().iloc[0]\n",
        "        df[col].fillna(mode_val, inplace=True)\n",
        "\n",
        "# Output\n",
        "print(df.head(10))\n",
        "print('Missing values replaced:\\n', df.isnull().sum())\n"
      ],
      "metadata": {
        "colab": {
          "base_uri": "https://localhost:8080/"
        },
        "id": "gB80-E7yWaSF",
        "outputId": "511139cf-6feb-4b6c-f0da-3e3651baace9"
      },
      "execution_count": 81,
      "outputs": [
        {
          "output_type": "stream",
          "name": "stdout",
          "text": [
            "Drive already mounted at /content/drive; to attempt to forcibly remount, call drive.mount(\"/content/drive\", force_remount=True).\n",
            "   S.no     Name        Age   Gender   Score  Attendance    Remarks\n",
            "0     1  Karthik  38.000000     Male   99.43  100.000000   Promoted\n",
            "1     2    Ajith  38.000000     Male   92.43   87.000000   Promoted\n",
            "2     3   Arvind  38.000000     Male   79.43   67.000000   Promoted\n",
            "3     4  Sunaina  38.000000   Female   89.43   93.000000   Promoted\n",
            "4     5    Vijay  35.000000     Male   49.43   45.000000   Rejected\n",
            "5     6    Vinay  37.571429     Male   82.03   70.285714   Promoted\n",
            "6     7     Usha  37.571429   Female   82.03   70.285714   Rejected\n",
            "7     8   Pradip  37.571429     Male   82.03   70.285714   Rejected\n",
            "8     9   Aditya  38.000000     Male   82.03  100.000000   Promoted\n",
            "9    10   Suresh  38.000000     Male   82.03    0.000000   Rejected\n",
            "Missing values replaced:\n",
            " S.no          0\n",
            "Name          0\n",
            "Age           0\n",
            "Gender        0\n",
            "Score         0\n",
            "Attendance    0\n",
            "Remarks       0\n",
            "dtype: int64\n"
          ]
        },
        {
          "output_type": "stream",
          "name": "stderr",
          "text": [
            "<ipython-input-81-bbe888d1b817>:22: FutureWarning: A value is trying to be set on a copy of a DataFrame or Series through chained assignment using an inplace method.\n",
            "The behavior will change in pandas 3.0. This inplace method will never work because the intermediate object on which we are setting values always behaves as a copy.\n",
            "\n",
            "For example, when doing 'df[col].method(value, inplace=True)', try using 'df.method({col: value}, inplace=True)' or df[col] = df[col].method(value) instead, to perform the operation inplace on the original object.\n",
            "\n",
            "\n",
            "  df[col].fillna(mean_val, inplace=True)\n",
            "<ipython-input-81-bbe888d1b817>:22: FutureWarning: A value is trying to be set on a copy of a DataFrame or Series through chained assignment using an inplace method.\n",
            "The behavior will change in pandas 3.0. This inplace method will never work because the intermediate object on which we are setting values always behaves as a copy.\n",
            "\n",
            "For example, when doing 'df[col].method(value, inplace=True)', try using 'df.method({col: value}, inplace=True)' or df[col] = df[col].method(value) instead, to perform the operation inplace on the original object.\n",
            "\n",
            "\n",
            "  df[col].fillna(mean_val, inplace=True)\n",
            "<ipython-input-81-bbe888d1b817>:22: FutureWarning: A value is trying to be set on a copy of a DataFrame or Series through chained assignment using an inplace method.\n",
            "The behavior will change in pandas 3.0. This inplace method will never work because the intermediate object on which we are setting values always behaves as a copy.\n",
            "\n",
            "For example, when doing 'df[col].method(value, inplace=True)', try using 'df.method({col: value}, inplace=True)' or df[col] = df[col].method(value) instead, to perform the operation inplace on the original object.\n",
            "\n",
            "\n",
            "  df[col].fillna(mean_val, inplace=True)\n",
            "<ipython-input-81-bbe888d1b817>:28: FutureWarning: A value is trying to be set on a copy of a DataFrame or Series through chained assignment using an inplace method.\n",
            "The behavior will change in pandas 3.0. This inplace method will never work because the intermediate object on which we are setting values always behaves as a copy.\n",
            "\n",
            "For example, when doing 'df[col].method(value, inplace=True)', try using 'df.method({col: value}, inplace=True)' or df[col] = df[col].method(value) instead, to perform the operation inplace on the original object.\n",
            "\n",
            "\n",
            "  df[col].fillna(mode_val, inplace=True)\n"
          ]
        }
      ]
    },
    {
      "cell_type": "markdown",
      "source": [
        "Part C: Categorical Data Encoding"
      ],
      "metadata": {
        "id": "AU3s3Bd6cMug"
      }
    },
    {
      "cell_type": "markdown",
      "source": [
        "Q5. Convert the Gender column into numeric format using Label Encoding."
      ],
      "metadata": {
        "id": "_aPm64NVcOmA"
      }
    },
    {
      "cell_type": "code",
      "source": [
        "import pandas as pd\n",
        "from google.colab import drive\n",
        "import numpy as np\n",
        "from sklearn.preprocessing import LabelEncoder\n",
        "\n",
        "# Mount Google Drive\n",
        "drive.mount('/content/drive')\n",
        "# Create a label encoder object\n",
        "le = LabelEncoder()\n",
        "\n",
        "# Load CSV\n",
        "file_path = '/content/sample_data/student_data.csv'\n",
        "df = pd.read_csv(file_path)\n",
        "\n",
        "# Assign column names\n",
        "df.columns = ['S.no', 'Name', 'Age', 'Gender', 'Score', 'Attendance', 'Remarks']\n",
        "# Apply label encoding to the Gender column\n",
        "df['Gender'] = le.fit_transform(df['Gender'])\n",
        "\n",
        "# Replace empty strings or whitespace-only strings with NaN\n",
        "df.replace(r'^\\s*$', np.nan, regex=True, inplace=True)\n",
        "\n",
        "# Fill numerical columns with mean\n",
        "for col in ['Age', 'Score', 'Attendance']:\n",
        "    if col in df.columns:\n",
        "        mean_val = df[col].astype(float).mean()\n",
        "        df[col].fillna(mean_val, inplace=True)\n",
        "\n",
        "# Fill categorical columns with mode\n",
        "for col in ['Gender', 'Remarks']:\n",
        "    if col in df.columns:\n",
        "        mode_val = df[col].mode().iloc[0]\n",
        "        df[col].fillna(mode_val, inplace=True)\n",
        "\n",
        "# Output\n",
        "print(df.head(10))\n",
        ""
      ],
      "metadata": {
        "colab": {
          "base_uri": "https://localhost:8080/"
        },
        "id": "hNz6eVaFcSq7",
        "outputId": "0752d210-fab1-44cf-d12a-3a56206221bd"
      },
      "execution_count": 87,
      "outputs": [
        {
          "output_type": "stream",
          "name": "stdout",
          "text": [
            "Drive already mounted at /content/drive; to attempt to forcibly remount, call drive.mount(\"/content/drive\", force_remount=True).\n",
            "   S.no     Name        Age  Gender   Score  Attendance    Remarks\n",
            "0     1  Karthik  38.000000       1   99.43  100.000000   Promoted\n",
            "1     2    Ajith  38.000000       1   92.43   87.000000   Promoted\n",
            "2     3   Arvind  38.000000       1   79.43   67.000000   Promoted\n",
            "3     4  Sunaina  38.000000       0   89.43   93.000000   Promoted\n",
            "4     5    Vijay  35.000000       1   49.43   45.000000   Rejected\n",
            "5     6    Vinay  37.571429       3   82.03   70.285714   Promoted\n",
            "6     7     Usha  37.571429       2   82.03   70.285714   Rejected\n",
            "7     8   Pradip  37.571429       3   82.03   70.285714   Rejected\n",
            "8     9   Aditya  38.000000       1   82.03  100.000000   Promoted\n",
            "9    10   Suresh  38.000000       1   82.03    0.000000   Rejected\n"
          ]
        },
        {
          "output_type": "stream",
          "name": "stderr",
          "text": [
            "<ipython-input-87-271c2844b8c6>:27: FutureWarning: A value is trying to be set on a copy of a DataFrame or Series through chained assignment using an inplace method.\n",
            "The behavior will change in pandas 3.0. This inplace method will never work because the intermediate object on which we are setting values always behaves as a copy.\n",
            "\n",
            "For example, when doing 'df[col].method(value, inplace=True)', try using 'df.method({col: value}, inplace=True)' or df[col] = df[col].method(value) instead, to perform the operation inplace on the original object.\n",
            "\n",
            "\n",
            "  df[col].fillna(mean_val, inplace=True)\n",
            "<ipython-input-87-271c2844b8c6>:27: FutureWarning: A value is trying to be set on a copy of a DataFrame or Series through chained assignment using an inplace method.\n",
            "The behavior will change in pandas 3.0. This inplace method will never work because the intermediate object on which we are setting values always behaves as a copy.\n",
            "\n",
            "For example, when doing 'df[col].method(value, inplace=True)', try using 'df.method({col: value}, inplace=True)' or df[col] = df[col].method(value) instead, to perform the operation inplace on the original object.\n",
            "\n",
            "\n",
            "  df[col].fillna(mean_val, inplace=True)\n",
            "<ipython-input-87-271c2844b8c6>:27: FutureWarning: A value is trying to be set on a copy of a DataFrame or Series through chained assignment using an inplace method.\n",
            "The behavior will change in pandas 3.0. This inplace method will never work because the intermediate object on which we are setting values always behaves as a copy.\n",
            "\n",
            "For example, when doing 'df[col].method(value, inplace=True)', try using 'df.method({col: value}, inplace=True)' or df[col] = df[col].method(value) instead, to perform the operation inplace on the original object.\n",
            "\n",
            "\n",
            "  df[col].fillna(mean_val, inplace=True)\n",
            "<ipython-input-87-271c2844b8c6>:33: FutureWarning: A value is trying to be set on a copy of a DataFrame or Series through chained assignment using an inplace method.\n",
            "The behavior will change in pandas 3.0. This inplace method will never work because the intermediate object on which we are setting values always behaves as a copy.\n",
            "\n",
            "For example, when doing 'df[col].method(value, inplace=True)', try using 'df.method({col: value}, inplace=True)' or df[col] = df[col].method(value) instead, to perform the operation inplace on the original object.\n",
            "\n",
            "\n",
            "  df[col].fillna(mode_val, inplace=True)\n"
          ]
        }
      ]
    },
    {
      "cell_type": "markdown",
      "source": [
        "Q6. Convert the Remarks column using One-Hot Encoding."
      ],
      "metadata": {
        "id": "uR84J0NldXsa"
      }
    },
    {
      "cell_type": "code",
      "source": [
        "import pandas as pd\n",
        "from google.colab import drive\n",
        "import numpy as np\n",
        "from sklearn.preprocessing import LabelEncoder\n",
        "\n",
        "# Mount Google Drive\n",
        "drive.mount('/content/drive')\n",
        "# Create a label encoder object\n",
        "le = LabelEncoder()\n",
        "\n",
        "# Load CSV\n",
        "file_path = '/content/sample_data/student_data.csv'\n",
        "df = pd.read_csv(file_path)\n",
        "\n",
        "# Assign column names\n",
        "df.columns = ['S.no', 'Name', 'Age', 'Gender', 'Score', 'Attendance', 'Remarks']\n",
        "# Apply label encoding to the Gender column\n",
        "df['Gender'] = le.fit_transform(df['Gender'])\n",
        "\n",
        "# Replace empty strings or whitespace-only strings with NaN\n",
        "df.replace(r'^\\s*$', np.nan, regex=True, inplace=True)\n",
        "\n",
        "# Fill numerical columns with mean\n",
        "for col in ['Age', 'Score', 'Attendance']:\n",
        "    if col in df.columns:\n",
        "        mean_val = df[col].astype(float).mean()\n",
        "        df[col].fillna(mean_val, inplace=True)\n",
        "\n",
        "# Fill categorical columns with mode\n",
        "for col in ['Gender', 'Remarks']:\n",
        "    if col in df.columns:\n",
        "        mode_val = df[col].mode().iloc[0]\n",
        "        df[col].fillna(mode_val, inplace=True)\n",
        "\n",
        " # One-hot encode the Remarks column\n",
        "#remarks_encoded = pd.get_dummies(df['Remarks'])\n",
        "\n",
        "\n",
        "# One-Hot Encoding\n",
        "remarks_encoded = pd.get_dummies(df)\n",
        "print(remarks_encoded)\n",
        "# Output\n",
        "print(df.head(10))"
      ],
      "metadata": {
        "colab": {
          "base_uri": "https://localhost:8080/"
        },
        "id": "X4Cm4B0Xdbms",
        "outputId": "d49409b8-6b61-40ec-a3c1-38d5d92d9616"
      },
      "execution_count": 92,
      "outputs": [
        {
          "output_type": "stream",
          "name": "stdout",
          "text": [
            "Drive already mounted at /content/drive; to attempt to forcibly remount, call drive.mount(\"/content/drive\", force_remount=True).\n",
            "   S.no        Age  Gender  Attendance  Name_Aditya  Name_Ajith  Name_Arvind  \\\n",
            "0     1  38.000000       1  100.000000        False       False        False   \n",
            "1     2  38.000000       1   87.000000        False        True        False   \n",
            "2     3  38.000000       1   67.000000        False       False         True   \n",
            "3     4  38.000000       0   93.000000        False       False        False   \n",
            "4     5  35.000000       1   45.000000        False       False        False   \n",
            "5     6  37.571429       3   70.285714        False       False        False   \n",
            "6     7  37.571429       2   70.285714        False       False        False   \n",
            "7     8  37.571429       3   70.285714        False       False        False   \n",
            "8     9  38.000000       1  100.000000         True       False        False   \n",
            "9    10  38.000000       1    0.000000        False       False        False   \n",
            "\n",
            "   Name_Karthik  Name_Pradip  Name_Sunaina  ...  Score_82.03  Score_ 49.43  \\\n",
            "0          True        False         False  ...        False         False   \n",
            "1         False        False         False  ...        False         False   \n",
            "2         False        False         False  ...        False         False   \n",
            "3         False        False          True  ...        False         False   \n",
            "4         False        False         False  ...        False          True   \n",
            "5         False        False         False  ...         True         False   \n",
            "6         False        False         False  ...         True         False   \n",
            "7         False         True         False  ...         True         False   \n",
            "8         False        False         False  ...         True         False   \n",
            "9         False        False         False  ...         True         False   \n",
            "\n",
            "   Score_ 79.43  Score_ 89.43  Score_ 92.43  Score_ 99.43  Remarks_ Promoted  \\\n",
            "0         False         False         False          True               True   \n",
            "1         False         False          True         False               True   \n",
            "2          True         False         False         False               True   \n",
            "3         False          True         False         False               True   \n",
            "4         False         False         False         False              False   \n",
            "5         False         False         False         False              False   \n",
            "6         False         False         False         False              False   \n",
            "7         False         False         False         False              False   \n",
            "8         False         False         False         False               True   \n",
            "9         False         False         False         False              False   \n",
            "\n",
            "   Remarks_ Rejected  Remarks_Promoted  Remarks_Rejected  \n",
            "0              False             False             False  \n",
            "1              False             False             False  \n",
            "2              False             False             False  \n",
            "3              False             False             False  \n",
            "4               True             False             False  \n",
            "5              False              True             False  \n",
            "6              False             False              True  \n",
            "7              False             False              True  \n",
            "8              False             False             False  \n",
            "9               True             False             False  \n",
            "\n",
            "[10 rows x 24 columns]\n",
            "   S.no     Name        Age  Gender   Score  Attendance    Remarks\n",
            "0     1  Karthik  38.000000       1   99.43  100.000000   Promoted\n",
            "1     2    Ajith  38.000000       1   92.43   87.000000   Promoted\n",
            "2     3   Arvind  38.000000       1   79.43   67.000000   Promoted\n",
            "3     4  Sunaina  38.000000       0   89.43   93.000000   Promoted\n",
            "4     5    Vijay  35.000000       1   49.43   45.000000   Rejected\n",
            "5     6    Vinay  37.571429       3   82.03   70.285714   Promoted\n",
            "6     7     Usha  37.571429       2   82.03   70.285714   Rejected\n",
            "7     8   Pradip  37.571429       3   82.03   70.285714   Rejected\n",
            "8     9   Aditya  38.000000       1   82.03  100.000000   Promoted\n",
            "9    10   Suresh  38.000000       1   82.03    0.000000   Rejected\n"
          ]
        },
        {
          "output_type": "stream",
          "name": "stderr",
          "text": [
            "<ipython-input-92-83cb4e6fc075>:27: FutureWarning: A value is trying to be set on a copy of a DataFrame or Series through chained assignment using an inplace method.\n",
            "The behavior will change in pandas 3.0. This inplace method will never work because the intermediate object on which we are setting values always behaves as a copy.\n",
            "\n",
            "For example, when doing 'df[col].method(value, inplace=True)', try using 'df.method({col: value}, inplace=True)' or df[col] = df[col].method(value) instead, to perform the operation inplace on the original object.\n",
            "\n",
            "\n",
            "  df[col].fillna(mean_val, inplace=True)\n",
            "<ipython-input-92-83cb4e6fc075>:27: FutureWarning: A value is trying to be set on a copy of a DataFrame or Series through chained assignment using an inplace method.\n",
            "The behavior will change in pandas 3.0. This inplace method will never work because the intermediate object on which we are setting values always behaves as a copy.\n",
            "\n",
            "For example, when doing 'df[col].method(value, inplace=True)', try using 'df.method({col: value}, inplace=True)' or df[col] = df[col].method(value) instead, to perform the operation inplace on the original object.\n",
            "\n",
            "\n",
            "  df[col].fillna(mean_val, inplace=True)\n",
            "<ipython-input-92-83cb4e6fc075>:27: FutureWarning: A value is trying to be set on a copy of a DataFrame or Series through chained assignment using an inplace method.\n",
            "The behavior will change in pandas 3.0. This inplace method will never work because the intermediate object on which we are setting values always behaves as a copy.\n",
            "\n",
            "For example, when doing 'df[col].method(value, inplace=True)', try using 'df.method({col: value}, inplace=True)' or df[col] = df[col].method(value) instead, to perform the operation inplace on the original object.\n",
            "\n",
            "\n",
            "  df[col].fillna(mean_val, inplace=True)\n",
            "<ipython-input-92-83cb4e6fc075>:33: FutureWarning: A value is trying to be set on a copy of a DataFrame or Series through chained assignment using an inplace method.\n",
            "The behavior will change in pandas 3.0. This inplace method will never work because the intermediate object on which we are setting values always behaves as a copy.\n",
            "\n",
            "For example, when doing 'df[col].method(value, inplace=True)', try using 'df.method({col: value}, inplace=True)' or df[col] = df[col].method(value) instead, to perform the operation inplace on the original object.\n",
            "\n",
            "\n",
            "  df[col].fillna(mode_val, inplace=True)\n"
          ]
        }
      ]
    },
    {
      "cell_type": "markdown",
      "source": [
        "Part D: Feature Scaling"
      ],
      "metadata": {
        "id": "fE5BTdKvgB2o"
      }
    },
    {
      "cell_type": "markdown",
      "source": [
        "Q7. Apply Min-Max Scaling on Score and Attendance columns and print the scaled result."
      ],
      "metadata": {
        "id": "zUv4jG4FgGQ8"
      }
    },
    {
      "cell_type": "code",
      "source": [
        "from sklearn.preprocessing import MinMaxScaler\n",
        "scalar = MinMaxScaler()\n",
        "columnsToScale = ['Score','Attendance']\n",
        "df[columnsToScale] = scalar.fit_transform(df[columnsToScale])\n",
        "\n",
        "print(df[columnsToScale].head(10))"
      ],
      "metadata": {
        "colab": {
          "base_uri": "https://localhost:8080/"
        },
        "id": "j5Tu9kOfgD5J",
        "outputId": "174edbd2-7762-4a09-c29a-bddcf23dca60"
      },
      "execution_count": 99,
      "outputs": [
        {
          "output_type": "stream",
          "name": "stdout",
          "text": [
            "   Score  Attendance\n",
            "0  1.000    1.000000\n",
            "1  0.860    0.870000\n",
            "2  0.600    0.670000\n",
            "3  0.800    0.930000\n",
            "4  0.000    0.450000\n",
            "5  0.652    0.702857\n",
            "6  0.652    0.702857\n",
            "7  0.652    0.702857\n",
            "8  0.652    1.000000\n",
            "9  0.652    0.000000\n"
          ]
        }
      ]
    },
    {
      "cell_type": "markdown",
      "source": [
        "Q8. Apply Standardization (Z-score) on the same columns and print the result."
      ],
      "metadata": {
        "id": "ZzMz-wyDhWlA"
      }
    },
    {
      "cell_type": "code",
      "source": [
        "from sklearn.preprocessing import StandardScaler\n",
        "sscalar = StandardScaler()\n",
        "columnsToScale = ['Score','Attendance']\n",
        "df[columnsToScale] = sscalar.fit_transform(df[columnsToScale])\n",
        "print(df[columnsToScale].head(10))"
      ],
      "metadata": {
        "colab": {
          "base_uri": "https://localhost:8080/"
        },
        "id": "DGbR8m5ShYGU",
        "outputId": "23e89039-4289-466a-ddd0-387c0aa88f37"
      },
      "execution_count": 102,
      "outputs": [
        {
          "output_type": "stream",
          "name": "stdout",
          "text": [
            "          Score    Attendance\n",
            "0  1.404322e+00  1.040755e+00\n",
            "1  8.393650e-01  5.854246e-01\n",
            "2 -2.098413e-01 -1.150835e-01\n",
            "3  5.972405e-01  7.955770e-01\n",
            "4 -2.631086e+00 -8.856423e-01\n",
            "5  4.480204e-16  3.888601e-16\n",
            "6  4.480204e-16  3.888601e-16\n",
            "7  4.480204e-16  3.888601e-16\n",
            "8  4.480204e-16  1.040755e+00\n",
            "9  4.480204e-16 -2.461785e+00\n"
          ]
        }
      ]
    },
    {
      "cell_type": "markdown",
      "source": [
        "Q9. Apply Max Absolute Scaling on these columns and print the result."
      ],
      "metadata": {
        "id": "oWOjKEhEjE2z"
      }
    },
    {
      "cell_type": "code",
      "source": [
        "from sklearn.preprocessing import MaxAbsScaler\n",
        "maxabs_scale = MaxAbsScaler()\n",
        "columnsToScale = ['Score','Attendance']\n",
        "df[columnsToScale] = maxabs_scale.fit_transform(df[columnsToScale])\n",
        "print(df[columnsToScale].head(10))"
      ],
      "metadata": {
        "colab": {
          "base_uri": "https://localhost:8080/"
        },
        "id": "316wNlDDjGR7",
        "outputId": "ef6fd278-825f-4b8a-e9e4-0f8e14c3b179"
      },
      "execution_count": 104,
      "outputs": [
        {
          "output_type": "stream",
          "name": "stdout",
          "text": [
            "          Score    Attendance\n",
            "0  5.337423e-01  4.227642e-01\n",
            "1  3.190184e-01  2.378049e-01\n",
            "2 -7.975460e-02 -4.674797e-02\n",
            "3  2.269939e-01  3.231707e-01\n",
            "4 -1.000000e+00 -3.597561e-01\n",
            "5  1.702796e-16  1.579586e-16\n",
            "6  1.702796e-16  1.579586e-16\n",
            "7  1.702796e-16  1.579586e-16\n",
            "8  1.702796e-16  4.227642e-01\n",
            "9  1.702796e-16 -1.000000e+00\n"
          ]
        }
      ]
    },
    {
      "cell_type": "markdown",
      "source": [
        "Q10. Apply L2 Normalization row-wise on the original Score and Attendance columns.\n"
      ],
      "metadata": {
        "id": "lBoIm1pvjllk"
      }
    },
    {
      "cell_type": "code",
      "source": [
        "from sklearn.preprocessing import Normalizer\n",
        "normalizer = Normalizer(norm='l2')\n",
        "colToScale = ['Score','Attendance']\n",
        "df[colToScale] = normalizer.fit_transform(df[colToScale])\n",
        "print(df[colToScale].head(10))"
      ],
      "metadata": {
        "colab": {
          "base_uri": "https://localhost:8080/"
        },
        "id": "bSDYbRbZjnAG",
        "outputId": "7e77b516-d402-459b-fe5d-a29f6d30f565"
      },
      "execution_count": 105,
      "outputs": [
        {
          "output_type": "stream",
          "name": "stdout",
          "text": [
            "          Score    Attendance\n",
            "0  7.838898e-01  6.208999e-01\n",
            "1  8.017565e-01  5.976508e-01\n",
            "2 -8.627203e-01 -5.056814e-01\n",
            "3  5.747776e-01  8.183097e-01\n",
            "4 -9.409605e-01 -3.385163e-01\n",
            "5  1.702796e-16  1.579586e-16\n",
            "6  1.702796e-16  1.579586e-16\n",
            "7  1.702796e-16  1.579586e-16\n",
            "8  4.027768e-16  1.000000e+00\n",
            "9  1.702796e-16 -1.000000e+00\n"
          ]
        }
      ]
    },
    {
      "cell_type": "markdown",
      "source": [
        "Part E: Summary Statistics"
      ],
      "metadata": {
        "id": "A5kjzxyFlkil"
      }
    },
    {
      "cell_type": "markdown",
      "source": [
        "Q11. Calculate and display the mean and standard deviation for all numerical columns."
      ],
      "metadata": {
        "id": "jOglvZiWlmyE"
      }
    },
    {
      "cell_type": "code",
      "source": [
        "# Select numerical columns\n",
        "numerical_cols = df.select_dtypes(include=['number']).columns\n",
        "\n",
        "# Calculate mean\n",
        "mean_values = df[numerical_cols].mean()\n",
        "\n",
        "# Calculate standard deviation\n",
        "std_values = df[numerical_cols].std()\n",
        "\n",
        "\n",
        "print(\"Mean values:\\n\", mean_values)\n",
        "print(\"\\nStandard Deviation values:\\n\", std_values)\n"
      ],
      "metadata": {
        "colab": {
          "base_uri": "https://localhost:8080/"
        },
        "id": "O4AHag6flqLx",
        "outputId": "4d87becb-2754-46f0-9d1e-33d779c357e8"
      },
      "execution_count": 107,
      "outputs": [
        {
          "output_type": "stream",
          "name": "stdout",
          "text": [
            "Mean values:\n",
            " S.no           5.500000\n",
            "Age           37.571429\n",
            "Gender         1.400000\n",
            "Score          0.035674\n",
            "Attendance     0.119266\n",
            "dtype: float64\n",
            "\n",
            "Standard Deviation values:\n",
            " S.no          3.027650\n",
            "Age           0.925820\n",
            "Gender        0.966092\n",
            "Score         0.596716\n",
            "Attendance    0.635994\n",
            "dtype: float64\n"
          ]
        }
      ]
    },
    {
      "cell_type": "markdown",
      "source": [
        "Q12. Calculate the correlation matrix for numerical features in the dataset and explain what it\n",
        "means.\n",
        "\n",
        "**\n",
        "The correlation matrix shows pairwise correlation coefficients between numerical variables.\n",
        "\n",
        "Values range from -1 to 1:\n",
        "\n",
        "1 means perfect positive linear correlation (as one variable increases, the other increases).\n",
        "\n",
        "-1 means perfect negative linear correlation (as one variable increases, the other decreases).\n",
        "\n",
        "0 means no linear correlation.\n",
        "\n",
        "For example:\n",
        "\n",
        "If Score and Attendance have a correlation of 0.8, it means students with higher attendance tend to have higher scores.\n",
        "\n",
        "If Age and Score have near-zero correlation, their relationship is weak or non-linear."
      ],
      "metadata": {
        "id": "S59vXYzhmn1T"
      }
    },
    {
      "cell_type": "code",
      "source": [
        "# Select numerical columns\n",
        "numerical_cols = df.select_dtypes(include=['number']).columns\n",
        "\n",
        "# Calculate correlation matrix\n",
        "correlation_matrix = df[numerical_cols].corr()\n",
        "\n",
        "# Display the matrix\n",
        "print(correlation_matrix)\n"
      ],
      "metadata": {
        "colab": {
          "base_uri": "https://localhost:8080/"
        },
        "id": "4DSofIIkmpB1",
        "outputId": "29937dae-737b-4dee-fa38-e33fac77725a"
      },
      "execution_count": 108,
      "outputs": [
        {
          "output_type": "stream",
          "name": "stdout",
          "text": [
            "                S.no       Age    Gender     Score  Attendance\n",
            "S.no        1.000000 -0.016988  0.341882 -0.280971   -0.327743\n",
            "Age        -0.016988  1.000000 -0.053240  0.598498    0.288090\n",
            "Gender      0.341882 -0.053240  1.000000 -0.138286   -0.234251\n",
            "Score      -0.280971  0.598498 -0.138286  1.000000    0.629024\n",
            "Attendance -0.327743  0.288090 -0.234251  0.629024    1.000000\n"
          ]
        }
      ]
    },
    {
      "cell_type": "markdown",
      "source": [
        "***********************Assignment End********************\n",
        "----------------------------------------------------------"
      ],
      "metadata": {
        "id": "3s_jevoWm46A"
      }
    },
    {
      "cell_type": "markdown",
      "source": [
        "Types of Data - Continuous, Discrete, Categorical"
      ],
      "metadata": {
        "id": "05ZGjjaQ8tAx"
      }
    },
    {
      "cell_type": "code",
      "source": [
        "import pandas as pd\n",
        "\n",
        "data = pd.DataFrame({\n",
        "    'Continuous': [120.3232, 442232.2323 , 48883.3333],\n",
        "    'Discrete' : [2,5,6],\n",
        "    'Categorical': ['Pink','Green','Blue']\n",
        "})\n",
        "\n",
        "print(data)"
      ],
      "metadata": {
        "colab": {
          "base_uri": "https://localhost:8080/"
        },
        "id": "m7nmet3O9B21",
        "outputId": "b2ba2625-a21c-45c5-f19f-d14122fc2b01"
      },
      "execution_count": 109,
      "outputs": [
        {
          "output_type": "stream",
          "name": "stdout",
          "text": [
            "    Continuous  Discrete Categorical\n",
            "0     120.3232         2        Pink\n",
            "1  442232.2323         5       Green\n",
            "2   48883.3333         6        Blue\n"
          ]
        }
      ]
    },
    {
      "cell_type": "markdown",
      "source": [
        "Feature Scaling"
      ],
      "metadata": {
        "id": "v83oFGTr93Sn"
      }
    },
    {
      "cell_type": "markdown",
      "source": [
        "Absolute Maximum Scaling"
      ],
      "metadata": {
        "id": "dzKv3Jxt9_U8"
      }
    },
    {
      "cell_type": "code",
      "source": [
        "import numpy as np\n",
        "\n",
        "X = np.array([[-522],[-1210],[122]])\n",
        "X_scaled = X / np.max(np.abs(X))\n",
        "print(X_scaled)\n"
      ],
      "metadata": {
        "colab": {
          "base_uri": "https://localhost:8080/"
        },
        "id": "IvdHCXrv-IxF",
        "outputId": "6281b76b-9b95-45a1-e435-e528f1ec5439"
      },
      "execution_count": 110,
      "outputs": [
        {
          "output_type": "stream",
          "name": "stdout",
          "text": [
            "[[-0.43140496]\n",
            " [-1.        ]\n",
            " [ 0.10082645]]\n"
          ]
        }
      ]
    },
    {
      "cell_type": "markdown",
      "source": [
        "Min-Max Scaling"
      ],
      "metadata": {
        "id": "bZqJyges_xZ7"
      }
    },
    {
      "cell_type": "code",
      "source": [
        "from sklearn.preprocessing import MinMaxScaler\n",
        "\n",
        "X = np.array([[10], [20], [30]])\n",
        "scaler = MinMaxScaler()\n",
        "X_minmax = scaler.fit_transform(X)\n",
        "print(X_minmax)"
      ],
      "metadata": {
        "colab": {
          "base_uri": "https://localhost:8080/"
        },
        "id": "rwiyJJkF_2QC",
        "outputId": "6665b225-d218-41a0-d86b-8a736ec1239f"
      },
      "execution_count": 111,
      "outputs": [
        {
          "output_type": "stream",
          "name": "stdout",
          "text": [
            "[[0. ]\n",
            " [0.5]\n",
            " [1. ]]\n"
          ]
        }
      ]
    },
    {
      "cell_type": "markdown",
      "source": [
        "Normalisation"
      ],
      "metadata": {
        "id": "wDzmDaeo_xC_"
      }
    },
    {
      "cell_type": "code",
      "source": [
        "from sklearn.preprocessing import Normalizer\n",
        "\n",
        "X = np.array([[1,2],[3,4]])\n",
        "Normalizer = Normalizer(norm='l2')\n",
        "X_normalized = Normalizer.fit_transform(X)\n",
        "print(X_normalized)\n"
      ],
      "metadata": {
        "colab": {
          "base_uri": "https://localhost:8080/"
        },
        "id": "a-NOLHoCAh_h",
        "outputId": "946c9918-1f6e-4420-c223-4d48c7b360bb"
      },
      "execution_count": 112,
      "outputs": [
        {
          "output_type": "stream",
          "name": "stdout",
          "text": [
            "[[0.4472136  0.89442719]\n",
            " [0.6        0.8       ]]\n"
          ]
        }
      ]
    },
    {
      "cell_type": "markdown",
      "source": [
        "Standardization"
      ],
      "metadata": {
        "id": "9Sr2LHnuBmqU"
      }
    },
    {
      "cell_type": "code",
      "source": [
        "from sklearn.preprocessing import StandardScaler\n",
        "\n",
        "X = np.array([[12],[45],[78]])\n",
        "scalar = StandardScaler()\n",
        "X_std = scalar.fit_transform(X)\n",
        "print(X_std)"
      ],
      "metadata": {
        "colab": {
          "base_uri": "https://localhost:8080/"
        },
        "id": "sRbcnEoRBr3o",
        "outputId": "567b1ef1-8528-4083-bab6-7da27808adae"
      },
      "execution_count": 113,
      "outputs": [
        {
          "output_type": "stream",
          "name": "stdout",
          "text": [
            "[[-1.22474487]\n",
            " [ 0.        ]\n",
            " [ 1.22474487]]\n"
          ]
        }
      ]
    },
    {
      "cell_type": "markdown",
      "source": [
        "Import Dataset"
      ],
      "metadata": {
        "id": "UUOGdkiUCdLn"
      }
    },
    {
      "cell_type": "code",
      "source": [
        "import pandas as pd\n",
        "\n",
        "url = \"https://raw.githubusercontent.com/MainakRepositor/Datasets/refs/heads/master/Cryptocurrency/bitcoin-sv.csv\"\n",
        "df = pd.read_csv(url)\n",
        "# Show first 5 rows\n",
        "print(df.head())\n"
      ],
      "metadata": {
        "colab": {
          "base_uri": "https://localhost:8080/"
        },
        "id": "sdUfMGEwCf9s",
        "outputId": "47d1b858-589d-42b1-dc85-42b07bfa45c1"
      },
      "execution_count": 114,
      "outputs": [
        {
          "output_type": "stream",
          "name": "stdout",
          "text": [
            "         Date    Open    High     Low   Close       Volume    Market Cap\n",
            "0  2020-12-12  161.62  166.40  161.29  165.09  328095197.0  3.070047e+09\n",
            "1  2020-12-11  166.44  166.69  159.65  161.65  396994620.0  3.005926e+09\n",
            "2  2020-12-10  170.34  170.96  164.39  166.41  397472839.0  3.094229e+09\n",
            "3  2020-12-09  173.35  173.47  161.74  170.32  532350698.0  3.166821e+09\n",
            "4  2020-12-08  179.71  181.30  170.21  173.37  569515279.0  3.223309e+09\n"
          ]
        }
      ]
    },
    {
      "cell_type": "markdown",
      "source": [
        "Handling Missing Data"
      ],
      "metadata": {
        "id": "V8MYsvAiEh2Y"
      }
    },
    {
      "cell_type": "code",
      "source": [
        "import pandas as pd\n",
        "import numpy as np\n",
        "\n",
        "data = pd.DataFrame({\n",
        "    'Temperature': [22, np.nan, 25, np.nan, 28],\n",
        "    'Humidity': [30, 45, np.nan, 50, 55]\n",
        "})\n",
        "\n",
        "# Fill missing with mean\n",
        "data_filled = data.fillna(data.mean(numeric_only=True))\n",
        "print(data_filled)"
      ],
      "metadata": {
        "colab": {
          "base_uri": "https://localhost:8080/"
        },
        "id": "1rhNLfVoEkGb",
        "outputId": "23b248d7-e383-4585-abfb-73c8462df515"
      },
      "execution_count": 115,
      "outputs": [
        {
          "output_type": "stream",
          "name": "stdout",
          "text": [
            "   Temperature  Humidity\n",
            "0         22.0      30.0\n",
            "1         25.0      45.0\n",
            "2         25.0      45.0\n",
            "3         25.0      50.0\n",
            "4         28.0      55.0\n"
          ]
        }
      ]
    },
    {
      "cell_type": "markdown",
      "source": [
        "Categorical Data"
      ],
      "metadata": {
        "id": "psbvvpfGEpwY"
      }
    },
    {
      "cell_type": "code",
      "source": [
        "import pandas as pd\n",
        "\n",
        "data = pd.DataFrame({\n",
        "    'Color': ['Red', 'Green', 'Blue', 'Red']\n",
        "})\n",
        "\n",
        "# One-Hot Encoding\n",
        "encoded_data = pd.get_dummies(data)\n",
        "print(encoded_data)\n"
      ],
      "metadata": {
        "colab": {
          "base_uri": "https://localhost:8080/"
        },
        "id": "OVgGVkqsEtt-",
        "outputId": "71a4e29b-2d8a-4cda-8530-212707767029"
      },
      "execution_count": 116,
      "outputs": [
        {
          "output_type": "stream",
          "name": "stdout",
          "text": [
            "   Color_Blue  Color_Green  Color_Red\n",
            "0       False        False       True\n",
            "1       False         True      False\n",
            "2        True        False      False\n",
            "3       False        False       True\n"
          ]
        }
      ]
    },
    {
      "cell_type": "markdown",
      "source": [
        "Preprocessing"
      ],
      "metadata": {
        "id": "EJRW4_mGFQdb"
      }
    },
    {
      "cell_type": "code",
      "source": [],
      "metadata": {
        "id": "O6djFsflFUD5"
      },
      "execution_count": 116,
      "outputs": []
    },
    {
      "cell_type": "code",
      "source": [
        "import pandas as pd\n",
        "\n",
        "raw_data = pd.DataFrame({\n",
        "    'Age': [25, None, 30, 28],\n",
        "    'Gender': ['Male', 'Female', None, 'Male'],\n",
        "    'Salary': [50000, 60000, None, 58000]\n",
        "})\n",
        "\n",
        "print(\"Raw Data:\")\n",
        "print(raw_data)\n"
      ],
      "metadata": {
        "colab": {
          "base_uri": "https://localhost:8080/"
        },
        "id": "vwxz2DU_XJIL",
        "outputId": "93bcf99b-ecc3-4143-b8d9-39c62ce4e1a9"
      },
      "execution_count": 117,
      "outputs": [
        {
          "output_type": "stream",
          "name": "stdout",
          "text": [
            "Raw Data:\n",
            "    Age  Gender   Salary\n",
            "0  25.0    Male  50000.0\n",
            "1   NaN  Female  60000.0\n",
            "2  30.0    None      NaN\n",
            "3  28.0    Male  58000.0\n"
          ]
        }
      ]
    },
    {
      "cell_type": "markdown",
      "source": [
        "Data Types"
      ],
      "metadata": {
        "id": "tarJoxezFkvE"
      }
    },
    {
      "cell_type": "code",
      "source": [],
      "metadata": {
        "id": "XzRbrKJ2FmRw"
      },
      "execution_count": 117,
      "outputs": []
    },
    {
      "cell_type": "code",
      "source": [
        "data = pd.DataFrame({\n",
        "    'Student ID': [101, 102, 103],\n",
        "    'Score': [85.5, 90.0, 76.0],\n",
        "    'Grade': pd.Series(['A', 'A+', 'B'], dtype=\"category\"),\n",
        "    'Section': pd.Series(['X', 'AX', 'BX'], dtype=\"category\")\n",
        "})\n",
        "\n",
        "print(\"Data Types:\")\n",
        "print(data.dtypes)\n",
        "print(\"\\nData Preview:\")\n",
        "print(data)\n"
      ],
      "metadata": {
        "colab": {
          "base_uri": "https://localhost:8080/"
        },
        "id": "OstrEazeXM6w",
        "outputId": "1b8c3100-9938-4a28-dc21-cd754ffa24e2"
      },
      "execution_count": 118,
      "outputs": [
        {
          "output_type": "stream",
          "name": "stdout",
          "text": [
            "Data Types:\n",
            "Student ID       int64\n",
            "Score          float64\n",
            "Grade         category\n",
            "Section       category\n",
            "dtype: object\n",
            "\n",
            "Data Preview:\n",
            "   Student ID  Score Grade Section\n",
            "0         101   85.5     A       X\n",
            "1         102   90.0    A+      AX\n",
            "2         103   76.0     B      BX\n"
          ]
        }
      ]
    },
    {
      "cell_type": "markdown",
      "source": [
        "Feature Scaling"
      ],
      "metadata": {
        "id": "RsqQcHwdF4lQ"
      }
    },
    {
      "cell_type": "markdown",
      "source": [
        "Absolute Max Scaling"
      ],
      "metadata": {
        "id": "fLl_9C-hF80_"
      }
    },
    {
      "cell_type": "code",
      "source": [
        "import numpy as np\n",
        "\n",
        "X = np.array([[29, 890,45,22], [98,-15,9,0], [0, -30,4,2]])\n",
        "X_scaled = X / np.max(np.abs(X), axis=0)\n",
        "print(np.round(X_scaled, 2))"
      ],
      "metadata": {
        "colab": {
          "base_uri": "https://localhost:8080/"
        },
        "id": "9_5Cr4JYGBJ1",
        "outputId": "19e1e134-64e1-414e-9951-bbff9509701c"
      },
      "execution_count": 119,
      "outputs": [
        {
          "output_type": "stream",
          "name": "stdout",
          "text": [
            "[[ 0.3   1.    1.    1.  ]\n",
            " [ 1.   -0.02  0.2   0.  ]\n",
            " [ 0.   -0.03  0.09  0.09]]\n"
          ]
        }
      ]
    },
    {
      "cell_type": "markdown",
      "source": [
        "Import dataset (CSV in GDrive)"
      ],
      "metadata": {
        "id": "LZ5cam2nGvge"
      }
    },
    {
      "cell_type": "code",
      "source": [
        "# Mount Google Drive\n",
        "from google.colab import drive\n",
        "drive.mount('/content/drive')\n",
        "\n",
        "# Example path\n",
        "file_path = '/content/sample_data/california_housing_test.csv'\n",
        "df = pd.read_csv(file_path)\n",
        "print(df.head())"
      ],
      "metadata": {
        "colab": {
          "base_uri": "https://localhost:8080/",
          "height": 382
        },
        "id": "mWlwJimvGzqU",
        "outputId": "c1051819-4151-4270-f35e-8b9a1691e6b5"
      },
      "execution_count": 120,
      "outputs": [
        {
          "output_type": "error",
          "ename": "KeyboardInterrupt",
          "evalue": "",
          "traceback": [
            "\u001b[0;31m---------------------------------------------------------------------------\u001b[0m",
            "\u001b[0;31mKeyboardInterrupt\u001b[0m                         Traceback (most recent call last)",
            "\u001b[0;32m<ipython-input-120-3125a1bfdd87>\u001b[0m in \u001b[0;36m<cell line: 0>\u001b[0;34m()\u001b[0m\n\u001b[1;32m      1\u001b[0m \u001b[0;31m# Mount Google Drive\u001b[0m\u001b[0;34m\u001b[0m\u001b[0;34m\u001b[0m\u001b[0m\n\u001b[1;32m      2\u001b[0m \u001b[0;32mfrom\u001b[0m \u001b[0mgoogle\u001b[0m\u001b[0;34m.\u001b[0m\u001b[0mcolab\u001b[0m \u001b[0;32mimport\u001b[0m \u001b[0mdrive\u001b[0m\u001b[0;34m\u001b[0m\u001b[0;34m\u001b[0m\u001b[0m\n\u001b[0;32m----> 3\u001b[0;31m \u001b[0mdrive\u001b[0m\u001b[0;34m.\u001b[0m\u001b[0mmount\u001b[0m\u001b[0;34m(\u001b[0m\u001b[0;34m'/content/drive'\u001b[0m\u001b[0;34m)\u001b[0m\u001b[0;34m\u001b[0m\u001b[0;34m\u001b[0m\u001b[0m\n\u001b[0m\u001b[1;32m      4\u001b[0m \u001b[0;34m\u001b[0m\u001b[0m\n\u001b[1;32m      5\u001b[0m \u001b[0;31m# Example path\u001b[0m\u001b[0;34m\u001b[0m\u001b[0;34m\u001b[0m\u001b[0m\n",
            "\u001b[0;32m/usr/local/lib/python3.11/dist-packages/google/colab/drive.py\u001b[0m in \u001b[0;36mmount\u001b[0;34m(mountpoint, force_remount, timeout_ms, readonly)\u001b[0m\n\u001b[1;32m     98\u001b[0m \u001b[0;32mdef\u001b[0m \u001b[0mmount\u001b[0m\u001b[0;34m(\u001b[0m\u001b[0mmountpoint\u001b[0m\u001b[0;34m,\u001b[0m \u001b[0mforce_remount\u001b[0m\u001b[0;34m=\u001b[0m\u001b[0;32mFalse\u001b[0m\u001b[0;34m,\u001b[0m \u001b[0mtimeout_ms\u001b[0m\u001b[0;34m=\u001b[0m\u001b[0;36m120000\u001b[0m\u001b[0;34m,\u001b[0m \u001b[0mreadonly\u001b[0m\u001b[0;34m=\u001b[0m\u001b[0;32mFalse\u001b[0m\u001b[0;34m)\u001b[0m\u001b[0;34m:\u001b[0m\u001b[0;34m\u001b[0m\u001b[0;34m\u001b[0m\u001b[0m\n\u001b[1;32m     99\u001b[0m   \u001b[0;34m\"\"\"Mount your Google Drive at the specified mountpoint path.\"\"\"\u001b[0m\u001b[0;34m\u001b[0m\u001b[0;34m\u001b[0m\u001b[0m\n\u001b[0;32m--> 100\u001b[0;31m   return _mount(\n\u001b[0m\u001b[1;32m    101\u001b[0m       \u001b[0mmountpoint\u001b[0m\u001b[0;34m,\u001b[0m\u001b[0;34m\u001b[0m\u001b[0;34m\u001b[0m\u001b[0m\n\u001b[1;32m    102\u001b[0m       \u001b[0mforce_remount\u001b[0m\u001b[0;34m=\u001b[0m\u001b[0mforce_remount\u001b[0m\u001b[0;34m,\u001b[0m\u001b[0;34m\u001b[0m\u001b[0;34m\u001b[0m\u001b[0m\n",
            "\u001b[0;32m/usr/local/lib/python3.11/dist-packages/google/colab/drive.py\u001b[0m in \u001b[0;36m_mount\u001b[0;34m(mountpoint, force_remount, timeout_ms, ephemeral, readonly)\u001b[0m\n\u001b[1;32m    135\u001b[0m   )\n\u001b[1;32m    136\u001b[0m   \u001b[0;32mif\u001b[0m \u001b[0mephemeral\u001b[0m\u001b[0;34m:\u001b[0m\u001b[0;34m\u001b[0m\u001b[0;34m\u001b[0m\u001b[0m\n\u001b[0;32m--> 137\u001b[0;31m     _message.blocking_request(\n\u001b[0m\u001b[1;32m    138\u001b[0m         \u001b[0;34m'request_auth'\u001b[0m\u001b[0;34m,\u001b[0m\u001b[0;34m\u001b[0m\u001b[0;34m\u001b[0m\u001b[0m\n\u001b[1;32m    139\u001b[0m         \u001b[0mrequest\u001b[0m\u001b[0;34m=\u001b[0m\u001b[0;34m{\u001b[0m\u001b[0;34m'authType'\u001b[0m\u001b[0;34m:\u001b[0m \u001b[0;34m'dfs_ephemeral'\u001b[0m\u001b[0;34m}\u001b[0m\u001b[0;34m,\u001b[0m\u001b[0;34m\u001b[0m\u001b[0;34m\u001b[0m\u001b[0m\n",
            "\u001b[0;32m/usr/local/lib/python3.11/dist-packages/google/colab/_message.py\u001b[0m in \u001b[0;36mblocking_request\u001b[0;34m(request_type, request, timeout_sec, parent)\u001b[0m\n\u001b[1;32m    174\u001b[0m       \u001b[0mrequest_type\u001b[0m\u001b[0;34m,\u001b[0m \u001b[0mrequest\u001b[0m\u001b[0;34m,\u001b[0m \u001b[0mparent\u001b[0m\u001b[0;34m=\u001b[0m\u001b[0mparent\u001b[0m\u001b[0;34m,\u001b[0m \u001b[0mexpect_reply\u001b[0m\u001b[0;34m=\u001b[0m\u001b[0;32mTrue\u001b[0m\u001b[0;34m\u001b[0m\u001b[0;34m\u001b[0m\u001b[0m\n\u001b[1;32m    175\u001b[0m   )\n\u001b[0;32m--> 176\u001b[0;31m   \u001b[0;32mreturn\u001b[0m \u001b[0mread_reply_from_input\u001b[0m\u001b[0;34m(\u001b[0m\u001b[0mrequest_id\u001b[0m\u001b[0;34m,\u001b[0m \u001b[0mtimeout_sec\u001b[0m\u001b[0;34m)\u001b[0m\u001b[0;34m\u001b[0m\u001b[0;34m\u001b[0m\u001b[0m\n\u001b[0m",
            "\u001b[0;32m/usr/local/lib/python3.11/dist-packages/google/colab/_message.py\u001b[0m in \u001b[0;36mread_reply_from_input\u001b[0;34m(message_id, timeout_sec)\u001b[0m\n\u001b[1;32m     94\u001b[0m     \u001b[0mreply\u001b[0m \u001b[0;34m=\u001b[0m \u001b[0m_read_next_input_message\u001b[0m\u001b[0;34m(\u001b[0m\u001b[0;34m)\u001b[0m\u001b[0;34m\u001b[0m\u001b[0;34m\u001b[0m\u001b[0m\n\u001b[1;32m     95\u001b[0m     \u001b[0;32mif\u001b[0m \u001b[0mreply\u001b[0m \u001b[0;34m==\u001b[0m \u001b[0m_NOT_READY\u001b[0m \u001b[0;32mor\u001b[0m \u001b[0;32mnot\u001b[0m \u001b[0misinstance\u001b[0m\u001b[0;34m(\u001b[0m\u001b[0mreply\u001b[0m\u001b[0;34m,\u001b[0m \u001b[0mdict\u001b[0m\u001b[0;34m)\u001b[0m\u001b[0;34m:\u001b[0m\u001b[0;34m\u001b[0m\u001b[0;34m\u001b[0m\u001b[0m\n\u001b[0;32m---> 96\u001b[0;31m       \u001b[0mtime\u001b[0m\u001b[0;34m.\u001b[0m\u001b[0msleep\u001b[0m\u001b[0;34m(\u001b[0m\u001b[0;36m0.025\u001b[0m\u001b[0;34m)\u001b[0m\u001b[0;34m\u001b[0m\u001b[0;34m\u001b[0m\u001b[0m\n\u001b[0m\u001b[1;32m     97\u001b[0m       \u001b[0;32mcontinue\u001b[0m\u001b[0;34m\u001b[0m\u001b[0;34m\u001b[0m\u001b[0m\n\u001b[1;32m     98\u001b[0m     if (\n",
            "\u001b[0;31mKeyboardInterrupt\u001b[0m: "
          ]
        }
      ]
    },
    {
      "cell_type": "markdown",
      "source": [
        "Handling Missing Data"
      ],
      "metadata": {
        "id": "5iplI3RSIIgQ"
      }
    },
    {
      "cell_type": "code",
      "source": [
        "import pandas as pd\n",
        "import numpy as np\n",
        "\n",
        "df = pd.DataFrame({\n",
        "    'Age': [34, np.nan, 65, 12],\n",
        "    'Income': [32330, 0, np.nan, 0]\n",
        "})\n",
        "\n",
        "df['Age'] = df['Age'].fillna(df['Age'].median())\n",
        "df['Income'] = df['Income'].fillna(df['Income'].mean())\n",
        "\n",
        "print(df)"
      ],
      "metadata": {
        "id": "PB6TWUSvIKbW"
      },
      "execution_count": null,
      "outputs": []
    },
    {
      "cell_type": "markdown",
      "source": [
        "Categorical Data (Label Encoding)"
      ],
      "metadata": {
        "id": "LK0Me3esIe-i"
      }
    },
    {
      "cell_type": "code",
      "source": [
        "from sklearn.preprocessing import LabelEncoder\n",
        "\n",
        "df = pd.DataFrame({\n",
        "    'Fruit&Vegetables': ['Cucumber', 'Guava', 'Pineapple', 'Strawberry']\n",
        "})\n",
        "\n",
        "le = LabelEncoder()\n",
        "df['Fruit&Veg_Label'] = le.fit_transform(df['Fruit&Vegetables'])\n",
        "\n",
        "print(df)"
      ],
      "metadata": {
        "id": "4APA8XwWIiqX"
      },
      "execution_count": null,
      "outputs": []
    },
    {
      "cell_type": "markdown",
      "source": [
        "Combined Scaling + Encoding"
      ],
      "metadata": {
        "id": "oiOKxMDqJSOo"
      }
    },
    {
      "cell_type": "code",
      "source": [
        "from sklearn.preprocessing import StandardScaler, OneHotEncoder\n",
        "from sklearn.compose import ColumnTransformer\n",
        "from sklearn.pipeline import Pipeline\n",
        "\n",
        "df = pd.DataFrame({\n",
        "    'Age': [32, 30, 25],\n",
        "    'City': ['Delhi', 'Mumbai', 'Bangalore']\n",
        "})\n",
        "\n",
        "ct = ColumnTransformer(transformers=[\n",
        "    ('num', StandardScaler(), ['Age']),\n",
        "    ('cat', OneHotEncoder(), ['City'])\n",
        "])\n",
        "\n",
        "output = ct.fit_transform(df)\n",
        "print(output.toarray() if hasattr(output, 'toarray') else output)"
      ],
      "metadata": {
        "id": "pVzRBpX_JVF-"
      },
      "execution_count": null,
      "outputs": []
    },
    {
      "cell_type": "markdown",
      "source": [
        "Assignment"
      ],
      "metadata": {
        "id": "NUrGyKmcJqcW"
      }
    }
  ]
}